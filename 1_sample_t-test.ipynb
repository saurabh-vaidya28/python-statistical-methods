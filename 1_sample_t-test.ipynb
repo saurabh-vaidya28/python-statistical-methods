{
 "cells": [
  {
   "cell_type": "markdown",
   "metadata": {},
   "source": [
    "# 1 sample T - test"
   ]
  },
  {
   "cell_type": "code",
   "execution_count": 1,
   "metadata": {},
   "outputs": [],
   "source": [
    "import numpy as np\n",
    "import matplotlib.pyplot as plt\n",
    "import scipy.stats as stats"
   ]
  },
  {
   "cell_type": "code",
   "execution_count": 2,
   "metadata": {},
   "outputs": [],
   "source": [
    "#load csv\n",
    "team1_mon = np.genfromtxt(\"team1_monday.csv\")\n",
    "team1_tues = np.genfromtxt(\"team1_tuesday.csv\")"
   ]
  },
  {
   "cell_type": "code",
   "execution_count": 3,
   "metadata": {},
   "outputs": [
    {
     "name": "stdout",
     "output_type": "stream",
     "text": [
      "[27. 43. 34. 24. 31. 46. 44. 42. 32. 49. 16. 23. 18. 42. 23. 53. 54. 32.\n",
      " 30. 49. 44. 38. 29. 42. 38. 23. 29. 19. 15. 22. 39. 38.]\n"
     ]
    }
   ],
   "source": [
    "print(team1_mon)"
   ]
  },
  {
   "cell_type": "code",
   "execution_count": 4,
   "metadata": {},
   "outputs": [
    {
     "name": "stdout",
     "output_type": "stream",
     "text": [
      "[23. 42. 39. 23. 37. 53. 44. 38. 30. 50. 12. 18. 24. 47. 26. 54. 58. 33.\n",
      " 34. 41. 41. 32. 32. 38. 31. 18. 23. 19. 17. 24. 43. 31.]\n"
     ]
    }
   ],
   "source": [
    "print(team1_tues)"
   ]
  },
  {
   "cell_type": "code",
   "execution_count": 5,
   "metadata": {},
   "outputs": [
    {
     "name": "stdout",
     "output_type": "stream",
     "text": [
      "Mean of team1 (monday) 34.0\n"
     ]
    }
   ],
   "source": [
    "t1_mon_mean = np.mean(team1_mon)\n",
    "print(\"Mean of team1 (monday)\", t1_mon_mean)"
   ]
  },
  {
   "cell_type": "code",
   "execution_count": 6,
   "metadata": {},
   "outputs": [
    {
     "name": "stdout",
     "output_type": "stream",
     "text": [
      "Mean of team1 (tuesday) 33.59375\n"
     ]
    }
   ],
   "source": [
    "t1_tues_mean = np.mean(team1_tues)\n",
    "print(\"Mean of team1 (tuesday)\", t1_tues_mean)"
   ]
  },
  {
   "cell_type": "code",
   "execution_count": 7,
   "metadata": {},
   "outputs": [],
   "source": [
    "tstat, pval = stats.ttest_rel(team1_mon, team1_tues)"
   ]
  },
  {
   "cell_type": "code",
   "execution_count": 8,
   "metadata": {},
   "outputs": [
    {
     "data": {
      "text/plain": [
       "0.6068313271031527"
      ]
     },
     "execution_count": 8,
     "metadata": {},
     "output_type": "execute_result"
    }
   ],
   "source": [
    "pval"
   ]
  },
  {
   "cell_type": "code",
   "execution_count": 9,
   "metadata": {},
   "outputs": [
    {
     "name": "stdout",
     "output_type": "stream",
     "text": [
      "We do not reject null hypothesis\n"
     ]
    }
   ],
   "source": [
    "if(pval < 0.5):\n",
    "    print(\"We reject null hypothesis\")\n",
    "else:\n",
    "    print(\"We do not reject null hypothesis\")"
   ]
  },
  {
   "cell_type": "code",
   "execution_count": null,
   "metadata": {},
   "outputs": [],
   "source": []
  }
 ],
 "metadata": {
  "kernelspec": {
   "display_name": "Python 3",
   "language": "python",
   "name": "python3"
  },
  "language_info": {
   "codemirror_mode": {
    "name": "ipython",
    "version": 3
   },
   "file_extension": ".py",
   "mimetype": "text/x-python",
   "name": "python",
   "nbconvert_exporter": "python",
   "pygments_lexer": "ipython3",
   "version": "3.8.2"
  }
 },
 "nbformat": 4,
 "nbformat_minor": 4
}
