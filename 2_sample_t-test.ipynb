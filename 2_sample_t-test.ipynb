{
 "cells": [
  {
   "cell_type": "markdown",
   "metadata": {},
   "source": [
    "### 2 sapmle T - test using two different dataset"
   ]
  },
  {
   "cell_type": "code",
   "execution_count": 1,
   "metadata": {},
   "outputs": [],
   "source": [
    "#2 sample T test two different teams Travelling times are given.\n",
    "#Perform 2 sample test on given data.\n",
    "#Compare means of two independent(unpaired groups)\n",
    "#H0 - two means are equal\n",
    "#H1 - two means are different, less or greater"
   ]
  },
  {
   "cell_type": "code",
   "execution_count": 2,
   "metadata": {},
   "outputs": [],
   "source": [
    "import numpy as np\n",
    "import matplotlib.pyplot as plt\n",
    "import scipy.stats as stats"
   ]
  },
  {
   "cell_type": "code",
   "execution_count": 3,
   "metadata": {},
   "outputs": [],
   "source": [
    "#load csv\n",
    "team1 = np.genfromtxt(\"team1.csv\")\n",
    "team2 = np.genfromtxt(\"team2.csv\")"
   ]
  },
  {
   "cell_type": "code",
   "execution_count": 4,
   "metadata": {},
   "outputs": [
    {
     "name": "stdout",
     "output_type": "stream",
     "text": [
      "[27. 43. 34. 24. 31. 46. 44. 42. 32. 49. 16. 23. 18. 42. 23. 53. 54. 32.\n",
      " 30. 49. 44. 38. 29. 42. 38. 23. 29. 19. 15. 22. 39. 38.]\n",
      "[18. 27. 64. 61. 13. 33. 37. 44. 58. 61. 21. 31. 20. 56. 52. 49. 56. 40.\n",
      " 43. 42. 58. 36. 34. 57. 50. 24. 64. 19. 35. 59. 49. 29.]\n"
     ]
    }
   ],
   "source": [
    "print(team1)\n",
    "print(team2)"
   ]
  },
  {
   "cell_type": "code",
   "execution_count": 5,
   "metadata": {},
   "outputs": [
    {
     "name": "stdout",
     "output_type": "stream",
     "text": [
      "34.0\n",
      "41.875\n"
     ]
    }
   ],
   "source": [
    "t1_mean = np.mean(team1)\n",
    "t2_mean = np.mean(team2)\n",
    "print(t1_mean)\n",
    "print(t2_mean)"
   ]
  },
  {
   "cell_type": "code",
   "execution_count": 6,
   "metadata": {},
   "outputs": [],
   "source": [
    "tstat, pval = stats.ttest_ind(team1, team2)"
   ]
  },
  {
   "cell_type": "code",
   "execution_count": 7,
   "metadata": {},
   "outputs": [
    {
     "data": {
      "text/plain": [
       "0.022026692541464353"
      ]
     },
     "execution_count": 7,
     "metadata": {},
     "output_type": "execute_result"
    }
   ],
   "source": [
    "pval"
   ]
  },
  {
   "cell_type": "code",
   "execution_count": 8,
   "metadata": {},
   "outputs": [
    {
     "name": "stdout",
     "output_type": "stream",
     "text": [
      "we reject null hypothesis\n"
     ]
    }
   ],
   "source": [
    "if(pval < 0.5):\n",
    "    print(\"we reject null hypothesis\")\n",
    "else:\n",
    "    print(\"we do not reject null hypothesis\")"
   ]
  }
 ],
 "metadata": {
  "kernelspec": {
   "display_name": "Python 3",
   "language": "python",
   "name": "python3"
  },
  "language_info": {
   "codemirror_mode": {
    "name": "ipython",
    "version": 3
   },
   "file_extension": ".py",
   "mimetype": "text/x-python",
   "name": "python",
   "nbconvert_exporter": "python",
   "pygments_lexer": "ipython3",
   "version": "3.8.2"
  }
 },
 "nbformat": 4,
 "nbformat_minor": 4
}
